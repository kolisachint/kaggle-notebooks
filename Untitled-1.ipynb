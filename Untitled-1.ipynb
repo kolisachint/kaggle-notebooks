{
 "cells": [
  {
   "cell_type": "code",
   "execution_count": 1,
   "metadata": {},
   "outputs": [],
   "source": [
    "import pandas"
   ]
  },
  {
   "cell_type": "code",
   "execution_count": 2,
   "metadata": {},
   "outputs": [
    {
     "name": "stdout",
     "output_type": "stream",
     "text": [
      "Requirement already satisfied: pandas in /opt/conda/lib/python3.7/site-packages (1.3.2)\n",
      "Requirement already satisfied: numpy>=1.17.3 in /opt/conda/lib/python3.7/site-packages (from pandas) (1.19.5)\n",
      "Requirement already satisfied: python-dateutil>=2.7.3 in /opt/conda/lib/python3.7/site-packages (from pandas) (2.8.0)\n",
      "Requirement already satisfied: pytz>=2017.3 in /opt/conda/lib/python3.7/site-packages (from pandas) (2021.1)\n",
      "Requirement already satisfied: six>=1.5 in /opt/conda/lib/python3.7/site-packages (from python-dateutil>=2.7.3->pandas) (1.15.0)\n",
      "\u001b[33mWARNING: Running pip as the 'root' user can result in broken permissions and conflicting behaviour with the system package manager. It is recommended to use a virtual environment instead: https://pip.pypa.io/warnings/venv\u001b[0m\n"
     ]
    }
   ],
   "source": [
    "!pip install pandas"
   ]
  },
  {
   "cell_type": "code",
   "execution_count": null,
   "metadata": {},
   "outputs": [],
   "source": [
    "!kaggle"
   ]
  },
  {
   "cell_type": "code",
   "execution_count": 1,
   "metadata": {},
   "outputs": [
    {
     "name": "stdout",
     "output_type": "stream",
     "text": [
      "Warning: Your Kaggle API key is readable by other users on this system! To fix this, you can run 'chmod 600 /root/.kaggle/kaggle.json'\n",
      "ref                                                  deadline             category            reward  teamCount  userHasEntered  \n",
      "---------------------------------------------------  -------------------  ---------------  ---------  ---------  --------------  \n",
      "contradictory-my-dear-watson                         2030-07-01 23:59:00  Getting Started     Prizes         63           False  \n",
      "gan-getting-started                                  2030-07-01 23:59:00  Getting Started     Prizes        148           False  \n",
      "tpu-getting-started                                  2030-06-03 23:59:00  Getting Started  Knowledge        228           False  \n",
      "digit-recognizer                                     2030-01-01 00:00:00  Getting Started  Knowledge       1595           False  \n",
      "titanic                                              2030-01-01 00:00:00  Getting Started  Knowledge      50452           False  \n",
      "house-prices-advanced-regression-techniques          2030-01-01 00:00:00  Getting Started  Knowledge       4621           False  \n",
      "connectx                                             2030-01-01 00:00:00  Getting Started  Knowledge        323           False  \n",
      "nlp-getting-started                                  2030-01-01 00:00:00  Getting Started  Knowledge       1222           False  \n",
      "competitive-data-science-predict-future-sales        2022-12-31 23:59:00  Playground           Kudos      12559           False  \n",
      "wikipedia-image-caption                              2021-12-09 11:59:00  Playground            Swag         19           False  \n",
      "lux-ai-2021                                          2021-12-06 23:59:00  Featured           $10,000        504           False  \n",
      "chaii-hindi-and-tamil-question-answering             2021-11-15 23:59:00  Research           $10,000        463           False  \n",
      "nfl-health-and-safety-helmet-assignment              2021-11-02 23:59:00  Featured          $100,000        499           False  \n",
      "rsna-miccai-brain-tumor-radiogenomic-classification  2021-10-15 23:59:00  Featured           $30,000       1178           False  \n",
      "landmark-retrieval-2021                              2021-10-01 23:59:00  Research              Swag        212           False  \n",
      "landmark-recognition-2021                            2021-10-01 23:59:00  Research              Swag        332           False  \n",
      "learnplatform-covid19-impact-on-digital-learning     2021-09-30 23:59:00  Analytics          $20,000          0           False  \n",
      "tabular-playground-series-sep-2021                   2021-09-30 23:59:00  Playground            Swag       1656           False  \n",
      "g2net-gravitational-wave-detection                   2021-09-29 23:59:00  Research           $15,000       1148           False  \n",
      "optiver-realized-volatility-prediction               2021-09-27 23:59:00  Featured          $100,000       3735           False  \n"
     ]
    }
   ],
   "source": [
    "!kaggle competitions list"
   ]
  },
  {
   "cell_type": "code",
   "execution_count": null,
   "metadata": {},
   "outputs": [],
   "source": []
  }
 ],
 "metadata": {
  "kernelspec": {
   "display_name": "Python 3 (ipykernel)",
   "language": "python",
   "name": "python3"
  },
  "language_info": {
   "codemirror_mode": {
    "name": "ipython",
    "version": 3
   },
   "file_extension": ".py",
   "mimetype": "text/x-python",
   "name": "python",
   "nbconvert_exporter": "python",
   "pygments_lexer": "ipython3",
   "version": "3.7.10"
  }
 },
 "nbformat": 4,
 "nbformat_minor": 4
}
